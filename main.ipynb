{
 "cells": [
  {
   "cell_type": "code",
   "execution_count": null,
   "outputs": [],
   "source": [
    "%load_ext autoreload\n",
    "%autoreload 2"
   ],
   "metadata": {
    "collapsed": false,
    "pycharm": {
     "name": "#%%\n"
    }
   }
  },
  {
   "cell_type": "code",
   "execution_count": null,
   "outputs": [],
   "source": [
    "import wandb\n",
    "from matplotlib import pyplot as plt\n",
    "from torch.nn.utils.rnn import pack_padded_sequence\n",
    "from torch.utils.data import DataLoader\n",
    "from torchvision import transforms\n",
    "\n",
    "from datasets.flickr8k import Flickr8kDataset\n",
    "from glove import embedding_matrix_creator\n",
    "from metrics import *\n",
    "from utils_torch import *"
   ],
   "metadata": {
    "collapsed": false,
    "pycharm": {
     "name": "#%%\n"
    }
   }
  },
  {
   "cell_type": "code",
   "execution_count": null,
   "outputs": [],
   "source": [
    "device = torch.device('cuda:0' if torch.cuda.is_available() else 'cpu')\n",
    "device"
   ],
   "metadata": {
    "collapsed": false,
    "pycharm": {
     "name": "#%%\n"
    }
   }
  },
  {
   "cell_type": "code",
   "execution_count": null,
   "outputs": [],
   "source": [
    "DATASET_BASE_PATH = 'data/flickr8k/'"
   ],
   "metadata": {
    "collapsed": false,
    "pycharm": {
     "name": "#%%\n"
    }
   }
  },
  {
   "cell_type": "code",
   "execution_count": null,
   "outputs": [],
   "source": [
    "train_set = Flickr8kDataset(dataset_base_path=DATASET_BASE_PATH, dist='train', device=device,\n",
    "                            return_type='tensor',\n",
    "                            load_img_to_memory=False)\n",
    "vocab, word2idx, idx2word, max_len = vocab_set = train_set.get_vocab()\n",
    "val_set = Flickr8kDataset(dataset_base_path=DATASET_BASE_PATH, dist='val', vocab_set=vocab_set, device=device,\n",
    "                          return_type='corpus',\n",
    "                          load_img_to_memory=False)\n",
    "test_set = Flickr8kDataset(dataset_base_path=DATASET_BASE_PATH, dist='test', vocab_set=vocab_set, device=device,\n",
    "                           return_type='corpus',\n",
    "                           load_img_to_memory=False)\n",
    "len(train_set), len(val_set), len(test_set)"
   ],
   "metadata": {
    "collapsed": false,
    "pycharm": {
     "name": "#%%\n"
    }
   }
  },
  {
   "cell_type": "code",
   "execution_count": null,
   "outputs": [],
   "source": [
    "vocab_size = len(vocab)\n",
    "vocab_size, max_len"
   ],
   "metadata": {
    "collapsed": false,
    "pycharm": {
     "name": "#%%\n"
    }
   }
  },
  {
   "cell_type": "code",
   "execution_count": null,
   "outputs": [],
   "source": [
    "MODEL = \"resnet50_monolstm\"\n",
    "EMBEDDING_DIM = 50\n",
    "EMBEDDING = f\"GLV{EMBEDDING_DIM}\"\n",
    "BATCH_SIZE = 16\n",
    "LR = 1e-2\n",
    "MODEL_NAME = f'saved_models/{MODEL}_b{BATCH_SIZE}_emd{EMBEDDING}'\n",
    "NUM_EPOCHS = 2\n",
    "SAVE_FREQ = 2\n",
    "LOG_INTERVAL = 25\n",
    "\n",
    "run = wandb.init(project='image-captioning',\n",
    "                 entity='datalab-buet',\n",
    "                 name=f\"{MODEL}_b{BATCH_SIZE}_emd{EMBEDDING}-{1}\",\n",
    "                 # tensorboard=True, sync_tensorboard=True,\n",
    "                 config={\"learning_rate\": LR,\n",
    "                         \"epochs\": NUM_EPOCHS,\n",
    "                         \"batch_size\": BATCH_SIZE,\n",
    "                         \"model\": MODEL,\n",
    "                         \"embedding\": EMBEDDING,\n",
    "                         \"embedding_dim\": EMBEDDING_DIM,\n",
    "                         },\n",
    "                 reinit=True)"
   ],
   "metadata": {
    "collapsed": false,
    "pycharm": {
     "name": "#%%\n"
    }
   }
  },
  {
   "cell_type": "code",
   "execution_count": null,
   "outputs": [],
   "source": [
    "embedding_matrix = embedding_matrix_creator(embedding_dim=EMBEDDING_DIM, word2idx=word2idx)\n",
    "embedding_matrix.shape\n"
   ],
   "metadata": {
    "collapsed": false,
    "pycharm": {
     "name": "#%%\n"
    }
   }
  },
  {
   "cell_type": "code",
   "execution_count": null,
   "outputs": [],
   "source": [
    "def train_model(train_loader, model, loss_fn, optimizer, vocab_size, acc_fn, desc=''):\n",
    "    running_acc = 0.0\n",
    "    running_loss = 0.0\n",
    "    model.train()\n",
    "    t = tqdm(iter(train_loader), desc=f'{desc}')\n",
    "    for batch_idx, batch in enumerate(t):\n",
    "        images, captions, lengths = batch\n",
    "        sort_ind = torch.argsort(lengths, descending=True)\n",
    "        images = images[sort_ind]\n",
    "        captions = captions[sort_ind]\n",
    "        lengths = lengths[sort_ind]\n",
    "\n",
    "        optimizer.zero_grad()\n",
    "        # [sum_len, vocab_size]\n",
    "        outputs = model(images, captions, lengths)\n",
    "        # [b, max_len] -> [sum_len]\n",
    "        targets = pack_padded_sequence(captions, lengths=lengths, batch_first=True, enforce_sorted=True)[0]\n",
    "\n",
    "        loss = loss_fn(outputs, targets)\n",
    "        loss.backward()\n",
    "        optimizer.step()\n",
    "\n",
    "        running_acc += (torch.argmax(outputs, dim=1) == targets).sum().float().item() / targets.size(0)\n",
    "        running_loss += loss.item()\n",
    "        t.set_postfix({'loss': running_loss / (batch_idx + 1),\n",
    "                       'acc': running_acc / (batch_idx + 1),\n",
    "                       }, refresh=True)\n",
    "        if (batch_idx + 1) % LOG_INTERVAL == 0:\n",
    "            wandb.log({\n",
    "                'train_loss': running_loss / (batch_idx + 1),\n",
    "                'train_acc': running_acc / (batch_idx + 1),\n",
    "            })\n",
    "\n",
    "    return running_loss / len(train_loader)\n",
    "\n",
    "\n",
    "def evaluate_model(data_loader, model, loss_fn, vocab_size, bleu_score_fn, tensor_to_word_fn, desc=''):\n",
    "    running_bleu4 = 0.0\n",
    "    model.eval()\n",
    "    t = tqdm(iter(data_loader), desc=f'{desc}')\n",
    "    for batch_idx, batch in enumerate(t):\n",
    "        images, captions, lengths = batch\n",
    "        outputs = tensor_to_word_fn(model.sample(images).cpu().numpy())\n",
    "\n",
    "        running_bleu4 += bleu_score_fn(reference_corpus=captions, candidate_corpus=outputs)\n",
    "        t.set_postfix({'bleu4': running_bleu4 / (batch_idx + 1),\n",
    "                       }, refresh=True)\n",
    "\n",
    "    return running_bleu4 / len(data_loader)\n"
   ],
   "metadata": {
    "collapsed": false,
    "pycharm": {
     "name": "#%%\n"
    }
   }
  },
  {
   "cell_type": "code",
   "execution_count": null,
   "outputs": [],
   "source": [
    "from models.torch.densenet201_monolstm import Captioner\n",
    "\n",
    "final_model = Captioner(EMBEDDING_DIM, 256, vocab_size, num_layers=2,\n",
    "                        embedding_matrix=embedding_matrix, train_embd=False).to(device)\n",
    "\n",
    "loss_fn = torch.nn.CrossEntropyLoss(ignore_index=train_set.pad_value).to(device)\n",
    "acc_fn = accuracy_fn(ignore_value=train_set.pad_value)\n",
    "sentence_bleu_score_fn = bleu_score_fn(4, 'sentence')\n",
    "corpus_bleu_score_fn = bleu_score_fn(4, 'corpus')\n",
    "tensor_to_word_fn = words_from_tensors_fn(idx2word=idx2word)\n",
    "\n",
    "params = list(final_model.decoder.parameters()) + list(final_model.encoder.embed.parameters()) + list(\n",
    "    final_model.encoder.bn.parameters())\n",
    "\n",
    "optimizer = torch.optim.Adam(params=params, lr=LR)\n",
    "\n",
    "wandb.watch(final_model, log='all', log_freq=50)\n",
    "wandb.watch(final_model.encoder, log='all', log_freq=50)\n",
    "wandb.watch(final_model.decoder, log='all', log_freq=50)"
   ],
   "metadata": {
    "collapsed": false,
    "pycharm": {
     "name": "#%%\n"
    }
   }
  },
  {
   "cell_type": "code",
   "execution_count": null,
   "outputs": [],
   "source": [
    "train_transformations = transforms.Compose([\n",
    "    transforms.Resize(256),  # smaller edge of image resized to 256\n",
    "    transforms.RandomCrop(224),  # get 224x224 crop from random location\n",
    "    transforms.RandomHorizontalFlip(p=0.5),\n",
    "    transforms.ToTensor(),  # convert the PIL Image to a tensor\n",
    "    transforms.Normalize((0.485, 0.456, 0.406),  # normalize image for pre-trained model\n",
    "                         (0.229, 0.224, 0.225))\n",
    "])\n",
    "eval_transformations = transforms.Compose([\n",
    "    transforms.Resize(256),  # smaller edge of image resized to 256\n",
    "    transforms.CenterCrop(224),  # get 224x224 crop from random location\n",
    "    transforms.ToTensor(),  # convert the PIL Image to a tensor\n",
    "    transforms.Normalize((0.485, 0.456, 0.406),  # normalize image for pre-trained model\n",
    "                         (0.229, 0.224, 0.225))\n",
    "])\n",
    "\n",
    "train_set.transformations = train_transformations\n",
    "val_set.transformations = eval_transformations\n",
    "test_set.transformations = eval_transformations"
   ],
   "metadata": {
    "collapsed": false,
    "pycharm": {
     "name": "#%%\n"
    }
   }
  },
  {
   "cell_type": "code",
   "execution_count": null,
   "outputs": [],
   "source": [
    "eval_collate_fn = lambda batch: (torch.stack([x[0] for x in batch]), [x[1] for x in batch], [x[2] for x in batch])\n",
    "train_loader = DataLoader(train_set, batch_size=BATCH_SIZE, shuffle=True, sampler=None, pin_memory=False)\n",
    "val_loader = DataLoader(val_set, batch_size=BATCH_SIZE, shuffle=False, sampler=None, pin_memory=False,\n",
    "                        collate_fn=eval_collate_fn)\n",
    "test_loader = DataLoader(test_set, batch_size=BATCH_SIZE, shuffle=False, sampler=None, pin_memory=False,\n",
    "                         collate_fn=eval_collate_fn)"
   ],
   "metadata": {
    "collapsed": false,
    "pycharm": {
     "name": "#%%\n"
    }
   }
  },
  {
   "cell_type": "code",
   "execution_count": null,
   "outputs": [],
   "source": [
    "train_loss_min = 100\n",
    "val_bleu4_max = 0.0\n",
    "for epoch in range(NUM_EPOCHS):\n",
    "    train_loss = train_model(desc=f'Epoch {epoch + 1}/{NUM_EPOCHS}', model=final_model,\n",
    "                             optimizer=optimizer, loss_fn=loss_fn, acc_fn=acc_fn,\n",
    "                             train_loader=train_loader, vocab_size=vocab_size)\n",
    "    state = {\n",
    "        'epoch': epoch + 1,\n",
    "        'state_dict': final_model.state_dict(),\n",
    "        'optimizer': optimizer.state_dict()\n",
    "    }\n",
    "    with torch.no_grad():\n",
    "        val_bleu4 = evaluate_model(desc=f'Epoch {epoch + 1}/{NUM_EPOCHS} Validation', model=final_model,\n",
    "                                   loss_fn=loss_fn, bleu_score_fn=corpus_bleu_score_fn,\n",
    "                                   tensor_to_word_fn=tensor_to_word_fn,\n",
    "                                   data_loader=val_loader, vocab_size=vocab_size)\n",
    "        wandb.log({'val_bleu': val_bleu4})\n",
    "        if val_bleu4 > val_bleu4_max:\n",
    "            val_bleu4 = val_bleu4_max\n",
    "            torch.save(state, f'{MODEL_NAME}''_best_val.pt')\n",
    "            wandb.save(f'{MODEL_NAME}''_best_val.pt')\n",
    "\n",
    "    if (epoch + 1) % SAVE_FREQ == 0:\n",
    "        torch.save(state, f'{MODEL_NAME}_ep{epoch + 1:02d}_weights.pt')\n",
    "    if train_loss < train_loss_min:\n",
    "        train_loss_min = train_loss\n",
    "        torch.save(state, f'{MODEL_NAME}''_best_train.pt')\n",
    "        wandb.save(f'{MODEL_NAME}''_best_train.pt')\n",
    "\n",
    "torch.save(final_model, f'{MODEL_NAME}_ep{NUM_EPOCHS:02d}_weights.pt')\n",
    "wandb.save(f'{MODEL_NAME}_ep{NUM_EPOCHS:02d}_weights.pt')\n",
    "final_model.eval()"
   ],
   "metadata": {
    "collapsed": false,
    "pycharm": {
     "name": "#%%\n"
    }
   }
  },
  {
   "cell_type": "code",
   "execution_count": null,
   "outputs": [],
   "source": [
    "model = final_model"
   ],
   "metadata": {
    "collapsed": false,
    "pycharm": {
     "name": "#%%\n"
    }
   }
  },
  {
   "cell_type": "code",
   "execution_count": null,
   "outputs": [],
   "source": [
    "t_i = 1003\n",
    "dset = train_set\n",
    "im, cp, _ = dset[t_i]\n",
    "print(''.join([idx2word[idx.item()] + ' ' for idx in model.sample(im.unsqueeze(0))[0]]))\n",
    "print(dset.get_image_captions(t_i)[1])\n",
    "\n",
    "plt.imshow(dset[t_i][0].detach().cpu().permute(1, 2, 0), interpolation=\"bicubic\")"
   ],
   "metadata": {
    "collapsed": false,
    "pycharm": {
     "name": "#%%\n"
    }
   }
  },
  {
   "cell_type": "code",
   "execution_count": null,
   "outputs": [],
   "source": [
    "t_i = 500\n",
    "dset = val_set\n",
    "im, cp, _ = dset[t_i]\n",
    "print(''.join([idx2word[idx.item()] + ' ' for idx in model.sample(im.unsqueeze(0))[0]]))\n",
    "print(cp)\n",
    "\n",
    "plt.imshow(dset[t_i][0].detach().cpu().permute(1, 2, 0), interpolation=\"bicubic\")"
   ],
   "metadata": {
    "collapsed": false,
    "pycharm": {
     "name": "#%%\n"
    }
   }
  },
  {
   "cell_type": "code",
   "execution_count": null,
   "outputs": [],
   "source": [
    "t_i = 500\n",
    "dset = test_set\n",
    "im, cp, _ = dset[t_i]\n",
    "print(''.join([idx2word[idx.item()] + ' ' for idx in model.sample(im.unsqueeze(0))[0]]))\n",
    "print(cp)\n",
    "\n",
    "plt.imshow(dset[t_i][0].detach().cpu().permute(1, 2, 0), interpolation=\"bicubic\")"
   ],
   "metadata": {
    "collapsed": false,
    "pycharm": {
     "name": "#%%\n"
    }
   }
  },
  {
   "cell_type": "code",
   "execution_count": null,
   "outputs": [],
   "source": [
    "train_eval_set = Flickr8kDataset(dataset_base_path=DATASET_BASE_PATH, dist='train', vocab_set=vocab_set, device=device,\n",
    "                                 return_type='corpus', transformations=eval_transformations)\n",
    "train_eval_loader = DataLoader(train_eval_set, batch_size=BATCH_SIZE, shuffle=False, sampler=None, pin_memory=False,\n",
    "                               collate_fn=eval_collate_fn)\n",
    "with torch.no_grad():\n",
    "    model.eval()\n",
    "    train_bleu4 = evaluate_model(desc=f'Train: ', model=final_model,\n",
    "                                 loss_fn=loss_fn, bleu_score_fn=corpus_bleu_score_fn,\n",
    "                                 tensor_to_word_fn=tensor_to_word_fn,\n",
    "                                 data_loader=train_eval_loader, vocab_size=vocab_size)\n",
    "    val_bleu4 = evaluate_model(desc=f'Val: ', model=final_model,\n",
    "                               loss_fn=loss_fn, bleu_score_fn=corpus_bleu_score_fn,\n",
    "                               tensor_to_word_fn=tensor_to_word_fn,\n",
    "                               data_loader=val_loader, vocab_size=vocab_size)\n",
    "    test_bleu4 = evaluate_model(desc=f'Test: ', model=final_model,\n",
    "                                loss_fn=loss_fn, bleu_score_fn=corpus_bleu_score_fn,\n",
    "                                tensor_to_word_fn=tensor_to_word_fn,\n",
    "                                data_loader=test_loader, vocab_size=vocab_size)\n",
    "    print('Train Bleu-4:', train_bleu4)\n",
    "    print('Valid Bleu-4:', val_bleu4)\n",
    "    print('Test Bleu-4:', test_bleu4)\n",
    "    wandb.run.summary[\"train_bleu4\"] = train_bleu4\n",
    "    wandb.run.summary[\"val_bleu4\"] = val_bleu4\n",
    "    wandb.run.summary[\"test_bleu4\"] = test_bleu4"
   ],
   "metadata": {
    "collapsed": false,
    "pycharm": {
     "name": "#%%\n"
    }
   }
  }
 ],
 "metadata": {
  "kernelspec": {
   "display_name": "Python 3",
   "language": "python",
   "name": "python3"
  },
  "language_info": {
   "codemirror_mode": {
    "name": "ipython",
    "version": 3
   },
   "file_extension": ".py",
   "mimetype": "text/x-python",
   "name": "python",
   "nbconvert_exporter": "python",
   "pygments_lexer": "ipython3",
   "version": "3.8.3"
  }
 },
 "nbformat": 4,
 "nbformat_minor": 1
}