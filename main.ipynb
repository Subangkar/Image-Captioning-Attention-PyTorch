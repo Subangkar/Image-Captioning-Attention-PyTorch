{
 "cells": [
  {
   "cell_type": "code",
   "execution_count": null,
   "outputs": [],
   "source": [
    "%load_ext autoreload\n",
    "%autoreload 2"
   ],
   "metadata": {
    "collapsed": false,
    "pycharm": {
     "name": "#%%\n"
    }
   }
  },
  {
   "cell_type": "code",
   "execution_count": null,
   "outputs": [],
   "source": [
    "import pickle\n",
    "import wandb\n",
    "from matplotlib import pyplot as plt\n",
    "from torch.nn.utils.rnn import pack_padded_sequence\n",
    "from torch.utils.data import DataLoader\n",
    "from torchvision import transforms\n",
    "\n",
    "from datasets.flickr8k import Flickr8kDataset\n",
    "from glove import embedding_matrix_creator\n",
    "from metrics import *\n",
    "from utils_torch import *"
   ],
   "metadata": {
    "collapsed": false,
    "pycharm": {
     "name": "#%%\n"
    }
   }
  },
  {
   "cell_type": "code",
   "execution_count": null,
   "outputs": [],
   "source": [
    "device = torch.device('cuda:0' if torch.cuda.is_available() else 'cpu')\n",
    "device"
   ],
   "metadata": {
    "collapsed": false,
    "pycharm": {
     "name": "#%%\n"
    }
   }
  },
  {
   "cell_type": "code",
   "execution_count": null,
   "outputs": [],
   "source": [
    "DATASET_BASE_PATH = 'data/flickr8k/'"
   ],
   "metadata": {
    "collapsed": false,
    "pycharm": {
     "name": "#%%\n"
    }
   }
  },
  {
   "cell_type": "code",
   "execution_count": null,
   "outputs": [],
   "source": [
    "train_set = Flickr8kDataset(dataset_base_path=DATASET_BASE_PATH, dist='train', device=device,\n",
    "                            return_type='tensor',\n",
    "                            load_img_to_memory=False)\n",
    "vocab, word2idx, idx2word, max_len = vocab_set = train_set.get_vocab()\n",
    "val_set = Flickr8kDataset(dataset_base_path=DATASET_BASE_PATH, dist='val', vocab_set=vocab_set, device=device,\n",
    "                          return_type='corpus',\n",
    "                          load_img_to_memory=False)\n",
    "test_set = Flickr8kDataset(dataset_base_path=DATASET_BASE_PATH, dist='test', vocab_set=vocab_set, device=device,\n",
    "                           return_type='corpus',\n",
    "                           load_img_to_memory=False)\n",
    "train_eval_set = Flickr8kDataset(dataset_base_path=DATASET_BASE_PATH, dist='train', vocab_set=vocab_set, device=device,\n",
    "                                 return_type='corpus',\n",
    "                                 load_img_to_memory=False)\n",
    "with open('vocab_set.pkl', 'wb') as f:\n",
    "    pickle.dump(train_set.get_vocab(), f)\n",
    "len(train_set), len(val_set), len(test_set)"
   ],
   "metadata": {
    "collapsed": false,
    "pycharm": {
     "name": "#%%\n"
    }
   }
  },
  {
   "cell_type": "code",
   "execution_count": null,
   "outputs": [],
   "source": [
    "vocab_size = len(vocab)\n",
    "vocab_size, max_len"
   ],
   "metadata": {
    "collapsed": false,
    "pycharm": {
     "name": "#%%\n"
    }
   }
  },
  {
   "cell_type": "code",
   "execution_count": null,
   "outputs": [],
   "source": [
    "MODEL = \"resnet101_attention\"\n",
    "EMBEDDING_DIM = 300\n",
    "EMBEDDING = f\"{EMBEDDING_DIM}\"\n",
    "ATTENTION_DIM = 256\n",
    "DECODER_SIZE = 256\n",
    "BATCH_SIZE = 128\n",
    "LR = 5e-4\n",
    "MODEL_NAME = f'saved_models/{MODEL}_b{BATCH_SIZE}_emd{EMBEDDING}'\n",
    "NUM_EPOCHS = 2\n",
    "SAVE_FREQ = 10\n",
    "LOG_INTERVAL = 25 * (256 // BATCH_SIZE)\n",
    "\n",
    "run = wandb.init(project='image-captioning',\n",
    "                 entity='datalab-buet',\n",
    "                 name=f\"{MODEL}_b{BATCH_SIZE}_emd{EMBEDDING}-{1}\",\n",
    "                 # tensorboard=True, sync_tensorboard=True,\n",
    "                 config={\"learning_rate\": LR,\n",
    "                         \"epochs\": NUM_EPOCHS,\n",
    "                         \"batch_size\": BATCH_SIZE,\n",
    "                         \"model\": MODEL,\n",
    "                         \"embedding\": EMBEDDING,\n",
    "                         \"embedding_dim\": EMBEDDING_DIM,\n",
    "                         \"attention_dim\": ATTENTION_DIM,\n",
    "                         \"decoder_dim\": DECODER_SIZE,\n",
    "                         },\n",
    "                 reinit=True)"
   ],
   "metadata": {
    "collapsed": false,
    "pycharm": {
     "name": "#%%\n"
    }
   }
  },
  {
   "cell_type": "code",
   "execution_count": null,
   "outputs": [],
   "source": [
    "embedding_matrix = embedding_matrix_creator(embedding_dim=EMBEDDING_DIM, word2idx=word2idx)\n",
    "embedding_matrix.shape\n"
   ],
   "metadata": {
    "collapsed": false,
    "pycharm": {
     "name": "#%%\n"
    }
   }
  },
  {
   "cell_type": "code",
   "execution_count": null,
   "outputs": [],
   "source": [
    "def train_model(train_loader, model, loss_fn, optimizer, vocab_size, acc_fn, desc=''):\n",
    "    running_acc = 0.0\n",
    "    running_loss = 0.0\n",
    "    model.train()\n",
    "    t = tqdm(iter(train_loader), desc=f'{desc}')\n",
    "    for batch_idx, batch in enumerate(t):\n",
    "        images, captions, lengths = batch\n",
    "\n",
    "        optimizer.zero_grad()\n",
    "\n",
    "        scores, caps_sorted, decode_lengths, alphas, sort_ind = model(images, captions, lengths)\n",
    "\n",
    "        # Since decoding starts with <start>, the targets are all words after <start>, up to <end>\n",
    "        targets = caps_sorted[:, 1:]\n",
    "\n",
    "        # Remove timesteps that we didn't decode at, or are pads\n",
    "        # pack_padded_sequence is an easy trick to do this\n",
    "        scores, _ = pack_padded_sequence(scores, decode_lengths, batch_first=True)\n",
    "        targets, _ = pack_padded_sequence(targets, decode_lengths, batch_first=True)\n",
    "\n",
    "        loss = loss_fn(scores, targets)\n",
    "        loss.backward()\n",
    "        optimizer.step()\n",
    "\n",
    "        running_acc += (torch.argmax(scores, dim=1) == targets).sum().float().item() / targets.size(0)\n",
    "        running_loss += loss.item()\n",
    "        t.set_postfix({'loss': running_loss / (batch_idx + 1),\n",
    "                       'acc': running_acc / (batch_idx + 1),\n",
    "                       }, refresh=True)\n",
    "        if (batch_idx + 1) % LOG_INTERVAL == 0:\n",
    "            print(f'{desc} {batch_idx + 1}/{len(train_loader)} '\n",
    "                  f'train_loss: {running_loss / (batch_idx + 1):.4f} '\n",
    "                  f'train_acc: {running_acc / (batch_idx + 1):.4f}')\n",
    "            wandb.log({\n",
    "                'train_loss': running_loss / (batch_idx + 1),\n",
    "                'train_acc': running_acc / (batch_idx + 1),\n",
    "            })\n",
    "\n",
    "    return running_loss / len(train_loader)\n",
    "\n",
    "\n",
    "def evaluate_model(data_loader, model, loss_fn, vocab_size, bleu_score_fn, tensor_to_word_fn, desc=''):\n",
    "    running_bleu = [0.0] * 5\n",
    "    model.eval()\n",
    "    t = tqdm(iter(data_loader), desc=f'{desc}')\n",
    "    for batch_idx, batch in enumerate(t):\n",
    "        images, captions, lengths = batch\n",
    "        outputs = tensor_to_word_fn(model.sample(images, startseq_idx=word2idx['<start>']).cpu().numpy())\n",
    "\n",
    "        for i in (1, 2, 3, 4):\n",
    "            running_bleu[i] += bleu_score_fn(reference_corpus=captions, candidate_corpus=outputs, n=i)\n",
    "        t.set_postfix({\n",
    "            'bleu1': running_bleu[1] / (batch_idx + 1),\n",
    "            'bleu4': running_bleu[4] / (batch_idx + 1),\n",
    "        }, refresh=True)\n",
    "    for i in (1, 2, 3, 4):\n",
    "        running_bleu[i] /= len(data_loader)\n",
    "    return running_bleu\n"
   ],
   "metadata": {
    "collapsed": false,
    "pycharm": {
     "name": "#%%\n"
    }
   }
  },
  {
   "cell_type": "code",
   "execution_count": null,
   "outputs": [],
   "source": [
    "from models.torch.resnet101_attention import Captioner\n",
    "\n",
    "final_model = Captioner(encoded_image_size=14, encoder_dim=2048,\n",
    "                        attention_dim=ATTENTION_DIM, embed_dim=EMBEDDING_DIM, decoder_dim=DECODER_SIZE,\n",
    "                        vocab_size=vocab_size,\n",
    "                        embedding_matrix=embedding_matrix, train_embd=True).to(device)\n",
    "\n",
    "loss_fn = torch.nn.CrossEntropyLoss(ignore_index=train_set.pad_value).to(device)\n",
    "acc_fn = accuracy_fn(ignore_value=train_set.pad_value)\n",
    "sentence_bleu_score_fn = bleu_score_fn(4, 'sentence')\n",
    "corpus_bleu_score_fn = bleu_score_fn(4, 'corpus')\n",
    "tensor_to_word_fn = words_from_tensors_fn(idx2word=idx2word)\n",
    "\n",
    "params = final_model.parameters()\n",
    "\n",
    "optimizer = torch.optim.Adam(params=params, lr=LR)\n",
    "\n",
    "wandb.watch(final_model, log='all', log_freq=50)\n",
    "# wandb.watch(final_model.encoder, log='all', log_freq=50)\n",
    "wandb.watch(final_model.decoder, log='all', log_freq=50)\n",
    "wandb.save('vocab_set.pkl')\n",
    "\n",
    "sync_files_wandb(['main.ipynb', 'train_attntn.py', 'models/torch/resnet101_attention.py'])"
   ],
   "metadata": {
    "collapsed": false,
    "pycharm": {
     "name": "#%%\n"
    }
   }
  },
  {
   "cell_type": "code",
   "execution_count": null,
   "outputs": [],
   "source": [
    "train_transformations = transforms.Compose([\n",
    "    transforms.Resize(256),  # smaller edge of image resized to 256\n",
    "    transforms.RandomCrop(256),  # get 256x256 crop from random location\n",
    "    transforms.RandomHorizontalFlip(p=0.5),\n",
    "    transforms.ToTensor(),  # convert the PIL Image to a tensor\n",
    "    transforms.Normalize((0.485, 0.456, 0.406),  # normalize image for pre-trained model\n",
    "                         (0.229, 0.224, 0.225))\n",
    "])\n",
    "eval_transformations = transforms.Compose([\n",
    "    transforms.Resize(256),  # smaller edge of image resized to 256\n",
    "    transforms.CenterCrop(256),  # get 256x256 crop from random location\n",
    "    transforms.ToTensor(),  # convert the PIL Image to a tensor\n",
    "    transforms.Normalize((0.485, 0.456, 0.406),  # normalize image for pre-trained model\n",
    "                         (0.229, 0.224, 0.225))\n",
    "])\n",
    "\n",
    "train_set.transformations = train_transformations\n",
    "val_set.transformations = eval_transformations\n",
    "test_set.transformations = eval_transformations\n",
    "train_eval_set.transformations = eval_transformations"
   ],
   "metadata": {
    "collapsed": false,
    "pycharm": {
     "name": "#%%\n"
    }
   }
  },
  {
   "cell_type": "code",
   "execution_count": null,
   "outputs": [],
   "source": [
    "eval_collate_fn = lambda batch: (torch.stack([x[0] for x in batch]), [x[1] for x in batch], [x[2] for x in batch])\n",
    "train_loader = DataLoader(train_set, batch_size=BATCH_SIZE, shuffle=True, sampler=None, pin_memory=False)\n",
    "val_loader = DataLoader(val_set, batch_size=BATCH_SIZE, shuffle=False, sampler=None, pin_memory=False,\n",
    "                        collate_fn=eval_collate_fn)\n",
    "test_loader = DataLoader(test_set, batch_size=BATCH_SIZE, shuffle=False, sampler=None, pin_memory=False,\n",
    "                         collate_fn=eval_collate_fn)\n",
    "train_eval_loader = DataLoader(train_eval_set, batch_size=BATCH_SIZE, shuffle=False, sampler=None, pin_memory=False,\n",
    "                               collate_fn=eval_collate_fn)"
   ],
   "metadata": {
    "collapsed": false,
    "pycharm": {
     "name": "#%%\n"
    }
   }
  },
  {
   "cell_type": "code",
   "execution_count": null,
   "outputs": [],
   "source": [
    "train_loss_min = 100\n",
    "val_bleu4_max = 0.0\n",
    "for epoch in range(NUM_EPOCHS):\n",
    "    train_loss = train_model(desc=f'Epoch {epoch + 1}/{NUM_EPOCHS}', model=final_model,\n",
    "                             optimizer=optimizer, loss_fn=loss_fn, acc_fn=acc_fn,\n",
    "                             train_loader=train_loader, vocab_size=vocab_size)\n",
    "    with torch.no_grad():\n",
    "        train_bleu = evaluate_model(desc=f'\\tTrain Bleu Score: ', model=final_model,\n",
    "                                    loss_fn=loss_fn, bleu_score_fn=corpus_bleu_score_fn,\n",
    "                                    tensor_to_word_fn=tensor_to_word_fn,\n",
    "                                    data_loader=train_eval_loader, vocab_size=vocab_size)\n",
    "        val_bleu = evaluate_model(desc=f'Validation Bleu Score: ', model=final_model,\n",
    "                                  loss_fn=loss_fn, bleu_score_fn=corpus_bleu_score_fn,\n",
    "                                  tensor_to_word_fn=tensor_to_word_fn,\n",
    "                                  data_loader=val_loader, vocab_size=vocab_size)\n",
    "        print(f'Epoch {epoch + 1}/{NUM_EPOCHS}',\n",
    "              ''.join([f'train_bleu{i}: {train_bleu[i]:.4f} ' for i in (1, 4)]),\n",
    "              ''.join([f'val_bleu{i}: {val_bleu[i]:.4f} ' for i in (1, 4)]),\n",
    "              )\n",
    "        wandb.log({f'val_bleu{i}': val_bleu[i] for i in (1, 2, 3, 4)})\n",
    "        wandb.log({'val_bleu': val_bleu[4]})\n",
    "        state = {\n",
    "            'epoch': epoch + 1,\n",
    "            'state_dict': final_model.state_dict(),\n",
    "            'optimizer': optimizer.state_dict(),\n",
    "            'train_loss_latest': train_loss,\n",
    "            'val_bleu4_latest': val_bleu[4],\n",
    "            'train_loss_min': min(train_loss, train_loss_min),\n",
    "            'val_bleu4_max': max(val_bleu[4], val_bleu4_max),\n",
    "            'train_bleus': train_bleu,\n",
    "            'val_bleus': val_bleu,\n",
    "        }\n",
    "        torch.save(state, f'{MODEL_NAME}_latest.pt')\n",
    "        wandb.save(f'{MODEL_NAME}_latest.pt')\n",
    "        if train_loss < train_loss_min:\n",
    "            train_loss_min = train_loss\n",
    "            torch.save(state, f'{MODEL_NAME}''_best_train.pt')\n",
    "            wandb.save(f'{MODEL_NAME}''_best_train.pt')\n",
    "        if val_bleu[4] > val_bleu4_max:\n",
    "            val_bleu4_max = val_bleu[4]\n",
    "            torch.save(state, f'{MODEL_NAME}''_best_val.pt')\n",
    "            wandb.save(f'{MODEL_NAME}''_best_val.pt')\n",
    "\n",
    "torch.save(state, f'{MODEL_NAME}_ep{NUM_EPOCHS:02d}_weights.pt')\n",
    "wandb.save(f'{MODEL_NAME}_ep{NUM_EPOCHS:02d}_weights.pt')\n",
    "final_model.eval()"
   ],
   "metadata": {
    "collapsed": false,
    "pycharm": {
     "name": "#%%\n"
    }
   }
  },
  {
   "cell_type": "code",
   "execution_count": null,
   "outputs": [],
   "source": [
    "model = final_model"
   ],
   "metadata": {
    "collapsed": false,
    "pycharm": {
     "name": "#%%\n"
    }
   }
  },
  {
   "cell_type": "code",
   "execution_count": null,
   "outputs": [],
   "source": [
    "t_i = 1003\n",
    "dset = train_set\n",
    "im, cp, _ = dset[t_i]\n",
    "print(''.join([idx2word[idx.item()] + ' ' for idx in model.sample(im.unsqueeze(0), word2idx['<start>'])[0]]))\n",
    "print(dset.get_image_captions(t_i)[1])\n",
    "\n",
    "plt.imshow(dset[t_i][0].detach().cpu().permute(1, 2, 0), interpolation=\"bicubic\")"
   ],
   "metadata": {
    "collapsed": false,
    "pycharm": {
     "name": "#%%\n"
    }
   }
  },
  {
   "cell_type": "code",
   "execution_count": null,
   "outputs": [],
   "source": [
    "t_i = 500\n",
    "dset = val_set\n",
    "im, cp, _ = dset[t_i]\n",
    "print(''.join([idx2word[idx.item()] + ' ' for idx in model.sample(im.unsqueeze(0), word2idx['<start>'])[0]]))\n",
    "print(cp)\n",
    "\n",
    "plt.imshow(dset[t_i][0].detach().cpu().permute(1, 2, 0), interpolation=\"bicubic\")"
   ],
   "metadata": {
    "collapsed": false,
    "pycharm": {
     "name": "#%%\n"
    }
   }
  },
  {
   "cell_type": "code",
   "execution_count": null,
   "outputs": [],
   "source": [
    "t_i = 500\n",
    "dset = test_set\n",
    "im, cp, _ = dset[t_i]\n",
    "print(''.join([idx2word[idx.item()] + ' ' for idx in model.sample(im.unsqueeze(0), word2idx['<start>'])[0]]))\n",
    "print(cp)\n",
    "\n",
    "plt.imshow(dset[t_i][0].detach().cpu().permute(1, 2, 0), interpolation=\"bicubic\")"
   ],
   "metadata": {
    "collapsed": false,
    "pycharm": {
     "name": "#%%\n"
    }
   }
  },
  {
   "cell_type": "code",
   "execution_count": null,
   "outputs": [],
   "source": [
    "with torch.no_grad():\n",
    "    model.eval()\n",
    "    train_bleu = evaluate_model(desc=f'Train: ', model=final_model,\n",
    "                                loss_fn=loss_fn, bleu_score_fn=corpus_bleu_score_fn,\n",
    "                                tensor_to_word_fn=tensor_to_word_fn,\n",
    "                                data_loader=train_eval_loader, vocab_size=vocab_size)\n",
    "    val_bleu = evaluate_model(desc=f'Val: ', model=final_model,\n",
    "                              loss_fn=loss_fn, bleu_score_fn=corpus_bleu_score_fn,\n",
    "                              tensor_to_word_fn=tensor_to_word_fn,\n",
    "                              data_loader=val_loader, vocab_size=vocab_size)\n",
    "    test_bleu = evaluate_model(desc=f'Test: ', model=final_model,\n",
    "                               loss_fn=loss_fn, bleu_score_fn=corpus_bleu_score_fn,\n",
    "                               tensor_to_word_fn=tensor_to_word_fn,\n",
    "                               data_loader=test_loader, vocab_size=vocab_size)\n",
    "    for setname, result in zip(('train', 'val', 'test'), (train_bleu, val_bleu, test_bleu)):\n",
    "        print(setname, end=' ')\n",
    "        for ngram in (1, 2, 3, 4):\n",
    "            print(f'Bleu-{ngram}: {result[ngram]}', end=' ')\n",
    "            wandb.run.summary[f\"{setname}_bleu{ngram}\"] = result[ngram]\n",
    "        print()"
   ],
   "metadata": {
    "collapsed": false,
    "pycharm": {
     "name": "#%%\n"
    }
   }
  }
 ],
 "metadata": {
  "kernelspec": {
   "display_name": "Python 3",
   "language": "python",
   "name": "python3"
  },
  "language_info": {
   "codemirror_mode": {
    "name": "ipython",
    "version": 3
   },
   "file_extension": ".py",
   "mimetype": "text/x-python",
   "name": "python",
   "nbconvert_exporter": "python",
   "pygments_lexer": "ipython3",
   "version": "3.8.3"
  }
 },
 "nbformat": 4,
 "nbformat_minor": 1
}