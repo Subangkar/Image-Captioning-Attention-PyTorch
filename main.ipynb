{
 "cells": [
  {
   "cell_type": "code",
   "execution_count": 1,
   "outputs": [],
   "source": [
    "%load_ext autoreload\n",
    "%autoreload 2"
   ],
   "metadata": {
    "collapsed": false,
    "pycharm": {
     "name": "#%%\n"
    }
   }
  },
  {
   "cell_type": "code",
   "execution_count": null,
   "outputs": [],
   "source": [
    "import matplotlib.pyplot as plt\n",
    "%matplotlib inline\n",
    "import math\n",
    "\n",
    "from IPython.core.display import display\n",
    "from PIL import Image\n",
    "import numpy as np\n",
    "import pandas as pd\n",
    "import keras\n",
    "\n",
    "from utils import *\n",
    "from datasets.flickr8kCap import Flickr8k"
   ],
   "metadata": {
    "collapsed": false,
    "pycharm": {
     "name": "#%%\n"
    }
   }
  },
  {
   "cell_type": "code",
   "execution_count": null,
   "outputs": [],
   "source": [
    "dset = Flickr8k()\n",
    "\n",
    "train_img = dset.get_imgpathlist(dist='train')\n",
    "len(train_img)\n",
    "\n",
    "val_img = dset.get_imgpathlist(dist='val')\n",
    "len(val_img)\n",
    "\n",
    "test_img = dset.get_imgpathlist(dist='test')\n",
    "len(test_img)"
   ],
   "metadata": {
    "collapsed": false,
    "pycharm": {
     "name": "#%%\n"
    }
   }
  },
  {
   "cell_type": "code",
   "execution_count": null,
   "outputs": [],
   "source": [
    "train_d = dset.imgfilename_to_caplist_dict(img_path_list=train_img)\n",
    "len(train_d)\n",
    "val_d = dset.imgfilename_to_caplist_dict(img_path_list=val_img)\n",
    "len(val_d)\n",
    "test_d = dset.imgfilename_to_caplist_dict(img_path_list=test_img)\n",
    "len(test_d)"
   ],
   "metadata": {
    "collapsed": false,
    "pycharm": {
     "name": "#%%\n"
    }
   }
  },
  {
   "cell_type": "code",
   "execution_count": null,
   "outputs": [],
   "source": [
    "caps = dset.add_start_end_seq(train_d)\n",
    "vocab, word2idx, idx2word, max_len = dset.construct_vocab(caps=caps)\n",
    "vocab_size = len(vocab)"
   ],
   "metadata": {
    "collapsed": false,
    "pycharm": {
     "name": "#%%\n"
    }
   }
  },
  {
   "cell_type": "code",
   "execution_count": null,
   "outputs": [],
   "source": [
    "samples_per_epoch = sum(map(lambda cap: len(cap.split()) - 1, caps))\n",
    "samples_per_epoch"
   ],
   "metadata": {
    "collapsed": false,
    "pycharm": {
     "name": "#%%\n"
    }
   }
  },
  {
   "cell_type": "code",
   "execution_count": null,
   "outputs": [],
   "source": [
    "from models.incepv3 import Encoder\n",
    "\n",
    "encoder = Encoder()\n",
    "encoding_train = encoder.encode(dset.images, train_img)\n",
    "encoding_test = encoder.encode(dset.images, test_img)"
   ],
   "metadata": {
    "collapsed": false,
    "pycharm": {
     "name": "#%%\n"
    }
   }
  },
  {
   "cell_type": "code",
   "execution_count": null,
   "outputs": [],
   "source": [
    "from models.incepv3 import Decoder\n",
    "\n",
    "final_model = Decoder(embedding_size=300, vocab_size=vocab_size, max_len=max_len).get_model()\n",
    "opt = keras.optimizers.Adam(learning_rate=1e-3)\n",
    "final_model.compile(loss='categorical_crossentropy', optimizer=opt, metrics=['accuracy'])\n",
    "final_model.summary()"
   ],
   "metadata": {
    "collapsed": false,
    "pycharm": {
     "name": "#%%\n"
    }
   }
  },
  {
   "cell_type": "code",
   "execution_count": null,
   "outputs": [],
   "source": [
    "BATCH_SIZE = 256\n",
    "MODEL_NAME = f'saved_models/IncepV3_bidir_b{BATCH_SIZE}'\n",
    "steps_per_epoch = int(math.ceil(samples_per_epoch / BATCH_SIZE))"
   ],
   "metadata": {
    "collapsed": false,
    "pycharm": {
     "name": "#%%\n"
    }
   }
  },
  {
   "cell_type": "code",
   "execution_count": null,
   "outputs": [],
   "source": [
    "final_model.fit(\n",
    "    x=dset.get_generator(batch_size=BATCH_SIZE, random_state=None,\n",
    "                         encoding_train=encoding_train, imgfilename_to_caplist_dict=train_d,\n",
    "                         word2idx=word2idx, vocab_size=vocab_size, max_len=max_len),\n",
    "    steps_per_epoch=steps_per_epoch,\n",
    "    epochs=50,\n",
    "    callbacks=[\n",
    "        keras.callbacks.ModelCheckpoint(\n",
    "            f'{MODEL_NAME}''_ep{epoch:02d}_weights.h5',\n",
    "            save_weights_only=True, period=20),\n",
    "        keras.callbacks.EarlyStopping(patience=10, monitor='loss'),\n",
    "        keras.callbacks.ModelCheckpoint(f'{MODEL_NAME}''_best_train.h5', monitor='loss',\n",
    "                                        save_best_only=True, mode='min'),\n",
    "    ])\n",
    "final_model.save(f\"{MODEL_NAME}_ep{50}.h5\")"
   ],
   "metadata": {
    "collapsed": false,
    "pycharm": {
     "name": "#%%\n"
    }
   }
  },
  {
   "cell_type": "code",
   "execution_count": null,
   "outputs": [],
   "source": [
    "final_model.fit(\n",
    "    x=dset.get_generator(batch_size=BATCH_SIZE, random_state=None,\n",
    "                         encoding_train=encoding_train, imgfilename_to_caplist_dict=train_d,\n",
    "                         word2idx=word2idx, vocab_size=vocab_size, max_len=max_len),\n",
    "    steps_per_epoch=steps_per_epoch,\n",
    "    epochs=100, initial_epoch=50,\n",
    "    callbacks=[\n",
    "        keras.callbacks.ModelCheckpoint(\n",
    "            f'{MODEL_NAME}''_ep{epoch:02d}_weights.h5',\n",
    "            save_weights_only=True, period=10),\n",
    "        keras.callbacks.EarlyStopping(patience=5, monitor='loss'),\n",
    "        keras.callbacks.ModelCheckpoint(f'{MODEL_NAME}''_best_train.h5', monitor='loss',\n",
    "                                        save_best_only=True, mode='min'),\n",
    "    ])\n",
    "final_model.save(f\"{MODEL_NAME}_ep{100}.h5\")"
   ],
   "metadata": {
    "collapsed": false,
    "pycharm": {
     "name": "#%%\n"
    }
   }
  },
  {
   "cell_type": "code",
   "execution_count": null,
   "outputs": [],
   "source": [
    "try_image = train_img[100]\n",
    "# imshow(np.asarray(Image.open(try_image)))\n",
    "display(Image.open(try_image))\n",
    "print('Normal Max search:', predict_captions(try_image, encoding_test=encoding_train, final_model=final_model,\n",
    "                                             word2idx=word2idx, idx2word=idx2word,\n",
    "                                             images=dset.images, max_len=max_len))\n",
    "print('Beam Search, k=3:',\n",
    "      beam_search_predictions(try_image, beam_index=3, encoding_test=encoding_train, final_model=final_model,\n",
    "                              word2idx=word2idx, idx2word=idx2word,\n",
    "                              images=dset.images, max_len=max_len))\n",
    "print('Beam Search, k=5:',\n",
    "      beam_search_predictions(try_image, beam_index=5, encoding_test=encoding_train, final_model=final_model,\n",
    "                              word2idx=word2idx, idx2word=idx2word,\n",
    "                              images=dset.images, max_len=max_len))\n",
    "print('Beam Search, k=7:',\n",
    "      beam_search_predictions(try_image, beam_index=7, encoding_test=encoding_train, final_model=final_model,\n",
    "                              word2idx=word2idx, idx2word=idx2word,\n",
    "                              images=dset.images, max_len=max_len))"
   ],
   "metadata": {
    "collapsed": false,
    "pycharm": {
     "name": "#%%\n"
    }
   }
  },
  {
   "cell_type": "code",
   "execution_count": null,
   "outputs": [],
   "source": [
    "try_image = test_img[4]\n",
    "display(Image.open(try_image))\n",
    "print('Normal Max search:', predict_captions(try_image, encoding_test=encoding_train, final_model=final_model,\n",
    "                                             word2idx=word2idx, idx2word=idx2word,\n",
    "                                             images=dset.images, max_len=max_len))\n",
    "print('Beam Search, k=3:',\n",
    "      beam_search_predictions(try_image, beam_index=3, encoding_test=encoding_test, final_model=final_model,\n",
    "                              word2idx=word2idx, idx2word=idx2word,\n",
    "                              images=dset.images, max_len=max_len))\n",
    "print('Beam Search, k=5:',\n",
    "      beam_search_predictions(try_image, beam_index=5, encoding_test=encoding_test, final_model=final_model,\n",
    "                              word2idx=word2idx, idx2word=idx2word,\n",
    "                              images=dset.images, max_len=max_len))\n",
    "print('Beam Search, k=7:',\n",
    "      beam_search_predictions(try_image, beam_index=7, encoding_test=encoding_test, final_model=final_model,\n",
    "                              word2idx=word2idx, idx2word=idx2word,\n",
    "                              images=dset.images, max_len=max_len))"
   ],
   "metadata": {
    "collapsed": false,
    "pycharm": {
     "name": "#%%\n"
    }
   }
  }
 ],
 "metadata": {
  "kernelspec": {
   "display_name": "Python 3",
   "language": "python",
   "name": "python3"
  },
  "language_info": {
   "codemirror_mode": {
    "name": "ipython",
    "version": 2
   },
   "file_extension": ".py",
   "mimetype": "text/x-python",
   "name": "python",
   "nbconvert_exporter": "python",
   "pygments_lexer": "ipython2",
   "version": "2.7.6"
  }
 },
 "nbformat": 4,
 "nbformat_minor": 0
}