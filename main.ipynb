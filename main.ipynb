{
 "cells": [
  {
   "cell_type": "code",
   "execution_count": null,
   "metadata": {
    "pycharm": {
     "name": "#%%\n",
     "is_executing": true
    }
   },
   "outputs": [],
   "source": [
    "%load_ext autoreload\n",
    "%autoreload 2"
   ]
  },
  {
   "cell_type": "code",
   "execution_count": null,
   "metadata": {
    "pycharm": {
     "name": "#%%\n"
    }
   },
   "outputs": [],
   "source": [
    "import math\n",
    "\n",
    "from IPython.core.display import display\n",
    "from PIL import Image\n",
    "import keras\n",
    "\n",
    "from utils import *\n",
    "from datasets.flickr8kCap import Flickr8k"
   ]
  },
  {
   "cell_type": "code",
   "execution_count": null,
   "metadata": {
    "pycharm": {
     "name": "#%%\n"
    }
   },
   "outputs": [],
   "source": [
    "DATASET_BASE_PATH = 'data/flickr8k/'"
   ]
  },
  {
   "cell_type": "code",
   "execution_count": null,
   "metadata": {
    "pycharm": {
     "name": "#%%\n"
    }
   },
   "outputs": [],
   "source": [
    "dset = Flickr8k(dataset_base_path=DATASET_BASE_PATH)\n",
    "\n",
    "train_img = dset.get_imgpathlist(dist='train')\n",
    "val_img = dset.get_imgpathlist(dist='val')\n",
    "\n",
    "test_img = dset.get_imgpathlist(dist='test')\n",
    "len(train_img), len(val_img), len(test_img)"
   ]
  },
  {
   "cell_type": "code",
   "execution_count": null,
   "metadata": {
    "pycharm": {
     "name": "#%%\n"
    }
   },
   "outputs": [],
   "source": [
    "train_d = dset.imgfilename_to_caplist_dict(img_path_list=train_img)\n",
    "val_d = dset.imgfilename_to_caplist_dict(img_path_list=val_img)\n",
    "test_d = dset.imgfilename_to_caplist_dict(img_path_list=test_img)\n",
    "len(train_d), len(val_d), len(test_d)"
   ]
  },
  {
   "cell_type": "code",
   "execution_count": null,
   "metadata": {
    "pycharm": {
     "name": "#%%\n"
    }
   },
   "outputs": [],
   "source": [
    "caps = dset.add_start_end_seq(train_d)\n",
    "vocab, word2idx, idx2word, max_len = dset.construct_vocab(caps=caps)\n",
    "vocab_size = len(vocab)\n",
    "vocab_size, max_len"
   ]
  },
  {
   "cell_type": "code",
   "execution_count": null,
   "metadata": {
    "pycharm": {
     "name": "#%%\n"
    }
   },
   "outputs": [],
   "source": [
    "samples_per_epoch = sum(map(lambda cap: len(cap.split()) - 1, caps))\n",
    "samples_per_epoch"
   ]
  },
  {
   "cell_type": "code",
   "execution_count": null,
   "metadata": {
    "pycharm": {
     "name": "#%%\n"
    }
   },
   "outputs": [],
   "source": [
    "BATCH_SIZE = 256\n",
    "MODEL_NAME = f'saved_models/incepv3_bidirlstm_b{BATCH_SIZE}'\n",
    "steps_per_epoch = int(math.ceil(samples_per_epoch / BATCH_SIZE))"
   ]
  },
  {
   "cell_type": "code",
   "execution_count": null,
   "metadata": {
    "pycharm": {
     "name": "#%%\n"
    }
   },
   "outputs": [],
   "source": [
    "from models.keras.incepv3_bidirlstm import Encoder\n",
    "\n",
    "encoder = Encoder()\n",
    "encoding_train = encoder.encode(dset.images, train_img)\n",
    "encoding_valid = encoder.encode(dset.images, val_img)\n",
    "encoding_test = encoder.encode(dset.images, test_img)"
   ]
  },
  {
   "cell_type": "code",
   "execution_count": null,
   "metadata": {
    "pycharm": {
     "name": "#%%\n"
    }
   },
   "outputs": [],
   "source": [
    "from models.keras.incepv3_bidirlstm import Decoder\n",
    "\n",
    "final_model = Decoder(embedding_size=300, vocab_size=vocab_size, max_len=max_len).get_model()\n",
    "opt = keras.optimizers.Adam(learning_rate=1e-3)\n",
    "final_model.compile(loss='categorical_crossentropy', optimizer=opt, metrics=['accuracy'])\n",
    "final_model.summary()"
   ]
  },
  {
   "cell_type": "code",
   "execution_count": null,
   "metadata": {
    "pycharm": {
     "name": "#%%\n"
    }
   },
   "outputs": [],
   "source": [
    "final_model.fit(\n",
    "    x=dset.get_generator(batch_size=BATCH_SIZE, random_state=None,\n",
    "                         encoding_train=encoding_train, imgfilename_to_caplist_dict=train_d,\n",
    "                         word2idx=word2idx, vocab_size=vocab_size, max_len=max_len),\n",
    "    steps_per_epoch=steps_per_epoch,\n",
    "    epochs=50,\n",
    "    callbacks=[\n",
    "        keras.callbacks.ModelCheckpoint(\n",
    "            f'{MODEL_NAME}''_ep{epoch:02d}_weights.h5',\n",
    "            save_weights_only=True, period=20),\n",
    "        keras.callbacks.EarlyStopping(patience=10, monitor='loss'),\n",
    "        keras.callbacks.ModelCheckpoint(f'{MODEL_NAME}''_best_train.h5', monitor='loss',\n",
    "                                        save_best_only=True, mode='min'),\n",
    "    ])\n",
    "final_model.save(f\"{MODEL_NAME}_ep{50}.h5\")"
   ]
  },
  {
   "cell_type": "code",
   "execution_count": null,
   "metadata": {
    "pycharm": {
     "name": "#%%\n"
    }
   },
   "outputs": [],
   "source": [
    "final_model.fit(\n",
    "    x=dset.get_generator(batch_size=BATCH_SIZE, random_state=None,\n",
    "                         encoding_train=encoding_train, imgfilename_to_caplist_dict=train_d,\n",
    "                         word2idx=word2idx, vocab_size=vocab_size, max_len=max_len),\n",
    "    steps_per_epoch=steps_per_epoch,\n",
    "    epochs=100, initial_epoch=50,\n",
    "    callbacks=[\n",
    "        keras.callbacks.ModelCheckpoint(\n",
    "            f'{MODEL_NAME}''_ep{epoch:02d}_weights.h5',\n",
    "            save_weights_only=True, period=10),\n",
    "        keras.callbacks.EarlyStopping(patience=5, monitor='loss'),\n",
    "        keras.callbacks.ModelCheckpoint(f'{MODEL_NAME}''_best_train.h5', monitor='loss',\n",
    "                                        save_best_only=True, mode='min'),\n",
    "    ])\n",
    "final_model.save(f\"{MODEL_NAME}_ep{100}.h5\")"
   ]
  },
  {
   "cell_type": "code",
   "execution_count": null,
   "metadata": {
    "pycharm": {
     "name": "#%%\n"
    }
   },
   "outputs": [],
   "source": [
    "# model = keras.models.load_model(f'{MODEL_NAME}''_best_train.h5')\n",
    "model = final_model\n",
    "\n",
    "# %%\n",
    "\n",
    "try_image = train_img[100]\n",
    "display(Image.open(try_image))\n",
    "print('Normal Max search:', greedy_predictions_gen(encoding_dict=encoding_train, model=model,\n",
    "                                                   word2idx=word2idx, idx2word=idx2word,\n",
    "                                                   images=dset.images, max_len=max_len)(try_image))\n",
    "for k in [3, 5, 7]:\n",
    "    print(f'Beam Search, k={k}:',\n",
    "          beam_search_predictions_gen(beam_index=k, encoding_dict=encoding_train, model=model,\n",
    "                                      word2idx=word2idx, idx2word=idx2word,\n",
    "                                      images=dset.images, max_len=max_len)(try_image))"
   ]
  },
  {
   "cell_type": "code",
   "execution_count": null,
   "outputs": [],
   "source": [
    "try_image = val_img[4]\n",
    "display(Image.open(try_image))\n",
    "print('Normal Max search:', greedy_predictions_gen(encoding_dict=encoding_valid, model=model,\n",
    "                                                   word2idx=word2idx, idx2word=idx2word,\n",
    "                                                   images=dset.images, max_len=max_len)(try_image))\n",
    "for k in [3, 5, 7]:\n",
    "    print(f'Beam Search, k={k}:',\n",
    "          beam_search_predictions_gen(beam_index=k, encoding_dict=encoding_valid, model=model,\n",
    "                                      word2idx=word2idx, idx2word=idx2word,\n",
    "                                      images=dset.images, max_len=max_len)(try_image))"
   ],
   "metadata": {
    "collapsed": false,
    "pycharm": {
     "name": "#%%\n"
    }
   }
  },
  {
   "cell_type": "code",
   "execution_count": null,
   "outputs": [],
   "source": [
    "try_image = test_img[4]\n",
    "display(Image.open(try_image))\n",
    "print('Normal Max search:', greedy_predictions_gen(encoding_dict=encoding_test, model=model,\n",
    "                                                   word2idx=word2idx, idx2word=idx2word,\n",
    "                                                   images=dset.images, max_len=max_len)(try_image))\n",
    "for k in [3, 5, 7]:\n",
    "    print(f'Beam Search, k={k}:',\n",
    "          beam_search_predictions_gen(beam_index=k, encoding_dict=encoding_test, model=model,\n",
    "                                      word2idx=word2idx, idx2word=idx2word,\n",
    "                                      images=dset.images, max_len=max_len)(try_image))"
   ],
   "metadata": {
    "collapsed": false,
    "pycharm": {
     "name": "#%%\n"
    }
   }
  },
  {
   "cell_type": "code",
   "execution_count": null,
   "outputs": [],
   "source": [
    "print(\"BLEU Scores:\")\n",
    "print(\"\\tTrain\")\n",
    "print_eval_metrics(img_cap_dict=train_d, encoding_dict=encoding_train, model=model,\n",
    "                   word2idx=word2idx, idx2word=idx2word,\n",
    "                   images=dset.images, max_len=max_len)\n",
    "print(\"\\tValidation\")\n",
    "print_eval_metrics(img_cap_dict=val_d, encoding_dict=encoding_valid, model=model,\n",
    "                   word2idx=word2idx, idx2word=idx2word,\n",
    "                   images=dset.images, max_len=max_len)\n",
    "print(\"\\tTest\")\n",
    "print_eval_metrics(img_cap_dict=test_d, encoding_dict=encoding_test, model=model,\n",
    "                   word2idx=word2idx, idx2word=idx2word,\n",
    "                   images=dset.images, max_len=max_len)"
   ],
   "metadata": {
    "collapsed": false,
    "pycharm": {
     "name": "#%%\n"
    }
   }
  }
 ],
 "metadata": {
  "kernelspec": {
   "display_name": "Python 3",
   "language": "python",
   "name": "python3"
  },
  "language_info": {
   "codemirror_mode": {
    "name": "ipython",
    "version": 3
   },
   "file_extension": ".py",
   "mimetype": "text/x-python",
   "name": "python",
   "nbconvert_exporter": "python",
   "pygments_lexer": "ipython3",
   "version": "3.8.3"
  }
 },
 "nbformat": 4,
 "nbformat_minor": 1
}