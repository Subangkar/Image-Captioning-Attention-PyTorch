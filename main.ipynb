{
 "cells": [
  {
   "cell_type": "code",
   "execution_count": null,
   "outputs": [],
   "source": [
    "%load_ext autoreload\n",
    "%autoreload 2"
   ],
   "metadata": {
    "collapsed": false,
    "pycharm": {
     "name": "#%%\n"
    }
   }
  },
  {
   "cell_type": "code",
   "execution_count": null,
   "outputs": [],
   "source": [
    "from IPython.core.display import display\n",
    "import torch\n",
    "from torch.utils.data import DataLoader\n",
    "from tqdm.auto import tqdm, trange\n",
    "from matplotlib import pyplot as plt\n",
    "\n",
    "from utils_torch import *\n",
    "from datasets.flickr8k import Flickr8kDataset"
   ],
   "metadata": {
    "collapsed": false,
    "pycharm": {
     "name": "#%%\n"
    }
   }
  },
  {
   "cell_type": "code",
   "execution_count": null,
   "outputs": [],
   "source": [
    "device = torch.device('cuda:0' if torch.cuda.is_available() else 'cpu')\n",
    "device"
   ],
   "metadata": {
    "collapsed": false,
    "pycharm": {
     "name": "#%%\n"
    }
   }
  },
  {
   "cell_type": "code",
   "execution_count": null,
   "outputs": [],
   "source": [
    "DATASET_BASE_PATH = 'data/flickr8k/'"
   ],
   "metadata": {
    "collapsed": false,
    "pycharm": {
     "name": "#%%\n"
    }
   }
  },
  {
   "cell_type": "code",
   "execution_count": null,
   "outputs": [],
   "source": [
    "train_set = Flickr8kDataset(dataset_base_path=DATASET_BASE_PATH, dist='train', device=device,\n",
    "                            load_img_to_memory=False)\n",
    "vocab, word2idx, idx2word, max_len = vocab_set = train_set.get_vocab()\n",
    "val_set = Flickr8kDataset(dataset_base_path=DATASET_BASE_PATH, dist='val', vocab_set=vocab_set, device=device)\n",
    "test_set = Flickr8kDataset(dataset_base_path=DATASET_BASE_PATH, dist='test', vocab_set=vocab_set, device=device)\n",
    "len(train_set), len(val_set), len(test_set)"
   ],
   "metadata": {
    "collapsed": false,
    "pycharm": {
     "name": "#%%\n"
    }
   }
  },
  {
   "cell_type": "code",
   "execution_count": null,
   "outputs": [],
   "source": [
    "vocab_size = len(vocab)\n",
    "vocab_size, max_len"
   ],
   "metadata": {
    "collapsed": false,
    "pycharm": {
     "name": "#%%\n"
    }
   }
  },
  {
   "cell_type": "code",
   "execution_count": null,
   "outputs": [],
   "source": [
    "samples_per_epoch = len(train_set)\n",
    "samples_per_epoch"
   ],
   "metadata": {
    "collapsed": false,
    "pycharm": {
     "name": "#%%\n"
    }
   }
  },
  {
   "cell_type": "code",
   "execution_count": null,
   "outputs": [],
   "source": [
    "def train_model_new(train_loader, encoder, decoder, loss_fn, optimizer, vocab_size, acc_fn, desc=''):\n",
    "    running_acc = 0.0\n",
    "    running_loss = 0.0\n",
    "    encoder.train()\n",
    "    decoder.train()\n",
    "    t = tqdm(iter(train_loader), desc=f'{desc}')\n",
    "    for batch_idx, batch in enumerate(t):\n",
    "        images, captions, lengths = batch\n",
    "\n",
    "        optimizer.zero_grad()\n",
    "        features = encoder(images)\n",
    "        outputs = decoder(features, captions)\n",
    "\n",
    "        loss = loss_fn(outputs.view(-1, vocab_size), captions.view(-1))\n",
    "        loss.backward()\n",
    "        optimizer.step()\n",
    "\n",
    "        running_acc += acc_fn(torch.argmax(outputs.view(-1, vocab_size), dim=1), captions.view(-1))\n",
    "        running_loss += loss.item()\n",
    "        t.set_postfix({'loss': running_loss / (batch_idx + 1),\n",
    "                       'acc': running_acc / (batch_idx + 1),\n",
    "                       }, refresh=True)\n",
    "\n",
    "    return running_loss / len(train_loader)"
   ],
   "metadata": {
    "collapsed": false,
    "pycharm": {
     "name": "#%%\n"
    }
   }
  },
  {
   "cell_type": "code",
   "execution_count": null,
   "outputs": [],
   "source": [
    "MODEL = \"resnet50_monolstm\"\n",
    "EMBEDDING_DIM = 50\n",
    "EMBEDDING = f\"GLV{EMBEDDING_DIM}\"\n",
    "BATCH_SIZE = 16\n",
    "LR = 1e-2\n",
    "MODEL_NAME = f'saved_models/{MODEL}_b{BATCH_SIZE}_emd{EMBEDDING}'\n",
    "NUM_EPOCHS = 2"
   ],
   "metadata": {
    "collapsed": false,
    "pycharm": {
     "name": "#%%\n"
    }
   }
  },
  {
   "cell_type": "code",
   "execution_count": null,
   "outputs": [],
   "source": [
    "from models.torch.resnet50_monolstm import Encoder\n",
    "\n",
    "# encoder = Encoder(embed_size=300).to(device=device)"
   ],
   "metadata": {
    "collapsed": false,
    "pycharm": {
     "name": "#%%\n"
    }
   }
  },
  {
   "cell_type": "code",
   "execution_count": null,
   "outputs": [],
   "source": [
    "from models.torch.resnet50_monolstm import Decoder\n",
    "\n",
    "encoder = Encoder(embed_size=EMBEDDING_DIM).to(device)\n",
    "decoder = Decoder(EMBEDDING_DIM, 256, vocab_size, num_layers=2).to(device)\n",
    "\n",
    "loss_fn = torch.nn.CrossEntropyLoss(ignore_index=train_set.pad_value).to(device)\n",
    "acc_fn = accuracy_fn(ignore_value=train_set.pad_value)\n",
    "\n",
    "# Specify the learnable parameters of the model\n",
    "params = list(decoder.parameters()) + list(encoder.embed.parameters()) + list(encoder.bn.parameters())\n",
    "\n",
    "# Define the optimizer\n",
    "optimizer = torch.optim.Adam(params=params, lr=LR)"
   ],
   "metadata": {
    "collapsed": false,
    "pycharm": {
     "name": "#%%\n"
    }
   }
  },
  {
   "cell_type": "code",
   "execution_count": null,
   "outputs": [],
   "source": [
    "train_set.transformations = transforms.Compose([\n",
    "    transforms.Resize(256),  # smaller edge of image resized to 256\n",
    "    transforms.RandomCrop(224),  # get 224x224 crop from random location\n",
    "    transforms.RandomHorizontalFlip(p=0.5),\n",
    "    transforms.ToTensor(),  # convert the PIL Image to a tensor\n",
    "    transforms.Normalize((0.485, 0.456, 0.406),  # normalize image for pre-trained model\n",
    "                         (0.229, 0.224, 0.225))\n",
    "])\n",
    "train_loader = DataLoader(train_set, batch_size=BATCH_SIZE, shuffle=True, sampler=None)\n",
    "train_loss_min = 100\n",
    "for epoch in range(NUM_EPOCHS):\n",
    "    train_loss = train_model_new(desc=f'Epoch {epoch + 1}/{NUM_EPOCHS}', encoder=encoder, decoder=decoder,\n",
    "                                 optimizer=optimizer, loss_fn=loss_fn, acc_fn=acc_fn,\n",
    "                                 train_loader=train_loader, vocab_size=vocab_size)\n",
    "#     state = {\n",
    "#         'epoch': epoch + 1,\n",
    "#         'state_dict': final_model.state_dict(),\n",
    "#         'optimizer': optimizer.state_dict()\n",
    "#     }\n",
    "#     if (epoch + 1) % 2 == 0:\n",
    "#         torch.save(state, f'{MODEL_NAME}_ep{epoch:02d}_weights.pt')\n",
    "#     if train_loss < train_loss_min:\n",
    "#         train_loss_min = train_loss\n",
    "#         torch.save(state, f'{MODEL_NAME}''_best_train.pt')\n",
    "# torch.save(final_model, f'{MODEL_NAME}_ep{5:02d}_weights.pt')\n",
    "# final_model.eval()\n",
    "encoder.eval()\n",
    "decoder.eval()"
   ],
   "metadata": {
    "collapsed": false,
    "pycharm": {
     "name": "#%%\n"
    }
   }
  },
  {
   "cell_type": "code",
   "execution_count": null,
   "outputs": [],
   "source": [
    "t_i = 1003\n",
    "feat = encoder(train_set[t_i][0].unsqueeze(0))\n",
    "print(''.join([idx2word[idx.item()] + ' ' for idx in train_set[t_i][1]]))\n",
    "print(''.join([idx2word[idx] + ' ' for idx in decoder.sample(feat.unsqueeze(1))]))\n",
    "\n",
    "plt.imshow(train_set[t_i][0].detach().cpu().permute(1, 2, 0), interpolation=\"bicubic\")"
   ],
   "metadata": {
    "collapsed": false,
    "pycharm": {
     "name": "#%%\n"
    }
   }
  },
  {
   "cell_type": "code",
   "execution_count": null,
   "outputs": [],
   "source": [
    "t_i = 2020\n",
    "feat = encoder(val_set[t_i][0].unsqueeze(0))\n",
    "print(''.join([idx2word[idx.item()] + ' ' for idx in val_set[t_i][1]]))\n",
    "print(''.join([idx2word[idx] + ' ' for idx in decoder.sample(feat.unsqueeze(1))]))\n",
    "\n",
    "plt.imshow(val_set[t_i][0].detach().cpu().permute(1, 2, 0), interpolation=\"bicubic\")"
   ],
   "metadata": {
    "collapsed": false,
    "pycharm": {
     "name": "#%%\n"
    }
   }
  },
  {
   "cell_type": "code",
   "execution_count": null,
   "outputs": [],
   "source": [
    "t_i = 2020\n",
    "feat = encoder(test_set[t_i][0].unsqueeze(0))\n",
    "print(''.join([idx2word[idx.item()] + ' ' for idx in test_set[t_i][1]]))\n",
    "print(''.join([idx2word[idx] + ' ' for idx in decoder.sample(feat.unsqueeze(1))]))\n",
    "\n",
    "plt.imshow(val_set[t_i][0].detach().cpu().permute(1, 2, 0), interpolation=\"bicubic\")\n"
   ],
   "metadata": {
    "collapsed": false,
    "pycharm": {
     "name": "#%%\n"
    }
   }
  }
 ],
 "metadata": {
  "kernelspec": {
   "display_name": "Python 3",
   "language": "python",
   "name": "python3"
  },
  "language_info": {
   "codemirror_mode": {
    "name": "ipython",
    "version": 3
   },
   "file_extension": ".py",
   "mimetype": "text/x-python",
   "name": "python",
   "nbconvert_exporter": "python",
   "pygments_lexer": "ipython3",
   "version": "3.8.3"
  }
 },
 "nbformat": 4,
 "nbformat_minor": 1
}